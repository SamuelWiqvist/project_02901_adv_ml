{
 "cells": [
  {
   "cell_type": "markdown",
   "metadata": {},
   "source": [
    "# Project work for *02901 Advanced Topics in Machine Learning: Computational Tools for Machine Learning in Python*\n",
    "\n",
    "We will in this notebook present a reaanalyses of the MA2 process example in *Learning Summary Statistic for Approximate Bayesian Computation via Deep Neural Network* [link to paper](https://www.researchgate.net/publication/282691910_Learning_Summary_Statistic_for_Approximate_Bayesian_Computation_via_Deep_Neural_Network). \n",
    "\n",
    "For building and training the deep neural networks we use the PyTorch package. We also use Numpy for implementation of the ABC rejection sampling algorithm. Matplotlib is used for plotting."
   ]
  },
  {
   "cell_type": "markdown",
   "metadata": {},
   "source": [
    "### Setup"
   ]
  },
  {
   "cell_type": "markdown",
   "metadata": {},
   "source": [
    "Load packages "
   ]
  },
  {
   "cell_type": "code",
   "execution_count": 24,
   "metadata": {},
   "outputs": [],
   "source": [
    "%matplotlib inline\n",
    "\n",
    "import torch\n",
    "import numpy as np \n",
    "import matplotlib as mpl\n",
    "import matplotlib.pyplot as plt\n",
    "import statsmodels.tsa.stattools as stats\n"
   ]
  },
  {
   "cell_type": "markdown",
   "metadata": {},
   "source": [
    "Set ground-truth parameters and load data. "
   ]
  },
  {
   "cell_type": "code",
   "execution_count": 14,
   "metadata": {
    "scrolled": true
   },
   "outputs": [
    {
     "data": {
      "image/png": "[encoded data removed]",
      "text/plain": [
       "<Figure size 432x288 with 1 Axes>"
      ]
     },
     "metadata": {},
     "output_type": "display_data"
    }
   ],
   "source": [
    "θ_true = np.array([0.6, 0.2]) # ground-truth parameter values \n",
    "\n",
    "ma2_data = np.genfromtxt('data/ma2_data.csv', delimiter=',') # load data \n",
    "obs_nbrs = ma2_data[1:101,0]\n",
    "y_obs = ma2_data[1:101,1]\n",
    "\n",
    "# plot datbba \n",
    "plt.plot(y_obs); \n"
   ]
  },
  {
   "cell_type": "markdown",
   "metadata": {},
   "source": [
    "### Train Network "
   ]
  },
  {
   "cell_type": "markdown",
   "metadata": {},
   "source": [
    "Load training, validation and test data. "
   ]
  },
  {
   "cell_type": "code",
   "execution_count": 3,
   "metadata": {},
   "outputs": [],
   "source": [
    "# load data from file \n",
    "X_training = np.genfromtxt(\"data/X_training.csv\",delimiter=',')\n",
    "X_val = np.genfromtxt(\"data/X_val.csv\",delimiter=',')\n",
    "X_test = np.genfromtxt(\"data/X_test.csv\",delimiter=',')\n",
    "\n",
    "y_training = np.genfromtxt(\"data/y_training.csv\",delimiter=',')\n",
    "y_val = np.genfromtxt(\"data/y_val.csv\",delimiter=',')\n",
    "y_test = np.genfromtxt(\"data/y_test.csv\",delimiter=',')\n",
    "\n",
    "# remove empty row \n",
    "X_training = X_training[1:500000,:]\n",
    "X_val = X_val[1:100,:]\n",
    "X_test = X_test[1:len(X_training),:]\n",
    "\n",
    "y_training = y_training[1:500000,:]\n",
    "y_val = y_val[1:100,:]\n",
    "y_test = y_test[1:len(y_test),:]\n",
    "\n",
    "# transpose input data \n",
    "X_training = np.transpose(X_training)\n",
    "X_val = np.transpose(X_val)\n",
    "X_test = np.transpose(X_test)\n",
    "\n",
    "# convert to torch\n",
    "X_training = torch.from_numpy(X_training)\n",
    "X_val = torch.from_numpy(X_val)\n",
    "X_test = torch.from_numpy(X_test)\n",
    "\n",
    "y_training = torch.from_numpy(y_training)\n",
    "y_val = torch.from_numpy(y_val)\n",
    "y_test = torch.from_numpy(y_test)"
   ]
  },
  {
   "cell_type": "markdown",
   "metadata": {},
   "source": [
    "Set up network "
   ]
  },
  {
   "cell_type": "code",
   "execution_count": 4,
   "metadata": {},
   "outputs": [],
   "source": [
    "model = torch.nn.Sequential(torch.nn.Linear(100, 100), torch.nn.ReLU(), torch.nn.Linear(100, 100),torch.nn.ReLU(), torch.nn.Linear(100, 50), torch.nn.ReLU(), torch.nn.Linear(50, 2)).double() \n",
    "optimizer  =  torch.optim.Adam(model.parameters())\n",
    "loss_func = torch.nn.MSELoss()"
   ]
  },
  {
   "cell_type": "markdown",
   "metadata": {},
   "source": [
    "Train network "
   ]
  },
  {
   "cell_type": "code",
   "execution_count": 7,
   "metadata": {
    "scrolled": true
   },
   "outputs": [
    {
     "name": "stdout",
     "output_type": "stream",
     "text": [
      "Epoch: 1\n",
      "Training loss: tensor(0.4690)\n",
      "Eval. loss: tensor(0.5376)\n",
      "0\n",
      "100000\n",
      "200000\n",
      "300000\n",
      "400000\n",
      "Epoch: 2\n",
      "Training loss: tensor(0.0265)\n",
      "Eval. loss: tensor(0.0249)\n",
      "0\n",
      "100000\n",
      "200000\n",
      "300000\n",
      "400000\n",
      "Epoch: 3\n",
      "Training loss: tensor(0.0238)\n",
      "Eval. loss: tensor(0.0256)\n",
      "0\n",
      "100000\n",
      "200000\n",
      "300000\n",
      "400000\n",
      "Epoch: 4\n",
      "Training loss: tensor(0.0220)\n",
      "Eval. loss: tensor(0.0243)\n",
      "0\n",
      "100000\n",
      "200000\n",
      "300000\n",
      "400000\n",
      "Epoch: 5\n",
      "Training loss: tensor(0.0221)\n",
      "Eval. loss: tensor(0.0211)\n",
      "0\n",
      "100000\n",
      "200000\n",
      "300000\n",
      "400000\n",
      "Epoch: 6\n",
      "Training loss: tensor(0.0221)\n",
      "Eval. loss: tensor(0.0243)\n",
      "0\n",
      "100000\n",
      "200000\n",
      "300000\n",
      "400000\n",
      "Epoch: 7\n",
      "Training loss: tensor(0.0242)\n",
      "Eval. loss: tensor(0.0230)\n",
      "0\n",
      "100000\n",
      "200000\n",
      "300000\n",
      "400000\n",
      "Epoch: 8\n",
      "Training loss: tensor(0.0210)\n",
      "Eval. loss: tensor(0.0221)\n",
      "0\n",
      "100000\n",
      "200000\n",
      "300000\n",
      "400000\n",
      "Epoch: 9\n",
      "Training loss: tensor(0.0231)\n",
      "Eval. loss: tensor(0.0209)\n",
      "0\n",
      "100000\n",
      "200000\n",
      "300000\n",
      "400000\n",
      "Epoch: 10\n",
      "Training loss: tensor(0.0217)\n",
      "Eval. loss: tensor(0.0236)\n",
      "0\n",
      "100000\n",
      "200000\n",
      "300000\n",
      "400000\n"
     ]
    }
   ],
   "source": [
    "save_model = false # save trained model \n",
    "load_model = true # set to false to retrain the model \n",
    "\n",
    "if !load_model:\n",
    "    \n",
    "    nbr_obs = y_training.shape[0]\n",
    "    nbr_epoch = 10 \n",
    "\n",
    "    idx = range(nbr_obs)\n",
    "    loss_eval_vec = torch.zeros(nbr_epoch)\n",
    "    loss_training_vec = torch.zeros(nbr_epoch)\n",
    "\n",
    "    for epoch in range(1,nbr_epoch+1): \n",
    "\n",
    "        print('Epoch:', epoch)\n",
    "        loss_training = 0\n",
    "        loss_eval = 0 \n",
    "\n",
    "        # calc loss at current epoch for evaluation data and part of training data     \n",
    "        for obs in range(0,y_val.shape[0]): \n",
    "\n",
    "            with torch.no_grad():\n",
    "                pred = model(X_val[:,obs])\n",
    "                loss_eval = loss_eval+loss_func(pred, y_val[obs,:]) \n",
    "                idx_training = np.random.choice(idx, 1)[0] # get one obs. from training data at random  \n",
    "                pred = model(X_training[:,idx_training])\n",
    "                loss_training = loss_training+loss_func(pred, y_training[idx_training,:])              \n",
    "\n",
    "        loss_eval_vec[epoch-1] = loss_eval/y_val.shape[0]\n",
    "        loss_training_vec[epoch-1] = loss_training/y_val.shape[0]\n",
    "\n",
    "        print('Training loss:', loss_eval_vec[epoch-1])\n",
    "        print('Eval. loss:', loss_training_vec[epoch-1])\n",
    "\n",
    "        # train on entier trainin data set     \n",
    "        for obs in range(0,y_training.shape[0]): \n",
    "\n",
    "            pred = model(X_training[:,obs])\n",
    "            loss = loss_func(pred, y_training[obs,:])  \n",
    "            optimizer.zero_grad()\n",
    "            loss.backward()    \n",
    "            optimizer.step()\n",
    "\n",
    "    if save_model\n",
    "        torch.save(model, 'model.pt')\n",
    "else:\n",
    "    model = torch.load(PATH)\n",
    "    "
   ]
  },
  {
   "cell_type": "markdown",
   "metadata": {},
   "source": [
    "Plot loss "
   ]
  },
  {
   "cell_type": "code",
   "execution_count": 13,
   "metadata": {},
   "outputs": [
    {
     "data": {
      "image/png": "[encoded data removed]",
      "text/plain": [
       "<Figure size 432x288 with 1 Axes>"
      ]
     },
     "metadata": {},
     "output_type": "display_data"
    }
   ],
   "source": [
    "plt.plot(loss_training_vec.numpy(), \"r\");\n",
    "plt.plot(loss_eval_vec.numpy(), \"b\");"
   ]
  },
  {
   "cell_type": "markdown",
   "metadata": {},
   "source": [
    "Test network "
   ]
  },
  {
   "cell_type": "code",
   "execution_count": 9,
   "metadata": {
    "scrolled": true
   },
   "outputs": [
    {
     "name": "stdout",
     "output_type": "stream",
     "text": [
      "Avg. MSE\n",
      "0.6775006\n"
     ]
    }
   ],
   "source": [
    "nbr_obs = y_test.shape[0]\n",
    "loss_test = torch.zeros(nbr_obs)\n",
    "predictions = torch.zeros(nbr_obs,2)\n",
    "\n",
    "with torch.no_grad():\n",
    "    for i in range(0,nbr_obs):\n",
    "        predictions[i,:] = model(X_test[:,i])\n",
    "        loss_test[i] = loss_func(pred, y_test[i,:])\n",
    "        \n",
    "loss_test = loss_test.numpy()\n",
    "predictions = predictions.numpy()\n",
    "y_test = y_test.numpy()\n",
    "\n",
    "\n",
    "print(\"Avg. MSE\")\n",
    "print(np.mean(loss_test))"
   ]
  },
  {
   "cell_type": "code",
   "execution_count": 12,
   "metadata": {},
   "outputs": [
    {
     "data": {
      "image/png": "[encoded data removed]",
      "text/plain": [
       "<Figure size 432x288 with 1 Axes>"
      ]
     },
     "metadata": {},
     "output_type": "display_data"
    }
   ],
   "source": [
    "plt.hist(loss_test,200);"
   ]
  },
  {
   "cell_type": "code",
   "execution_count": 19,
   "metadata": {},
   "outputs": [
    {
     "data": {
      "image/png": "[encoded data removed]",
      "text/plain": [
       "<Figure size 432x288 with 1 Axes>"
      ]
     },
     "metadata": {},
     "output_type": "display_data"
    }
   ],
   "source": [
    "plt.hist2d(predictions[:,0],y_test[:,0],100);"
   ]
  },
  {
   "cell_type": "code",
   "execution_count": 20,
   "metadata": {},
   "outputs": [
    {
     "data": {
      "image/png": "[encoded data removed]",
      "text/plain": [
       "<Figure size 432x288 with 1 Axes>"
      ]
     },
     "metadata": {},
     "output_type": "display_data"
    }
   ],
   "source": [
    "plt.hist2d(predictions[:,1],y_test[:,1],100);"
   ]
  },
  {
   "cell_type": "markdown",
   "metadata": {},
   "source": [
    "### Run ABC inference "
   ]
  },
  {
   "cell_type": "markdown",
   "metadata": {},
   "source": [
    "Functions defining the MA2 process. "
   ]
  },
  {
   "cell_type": "code",
   "execution_count": 33,
   "metadata": {},
   "outputs": [],
   "source": [
    "# Sample from the Uniform prior distribution\n",
    "def sample_from_prior():\n",
    "    while True:\n",
    "        θ_1 = np.random.uniform(-2, 2)\n",
    "        θ_2 = np.random.uniform(-1, 1) \n",
    "        if θ_2 + θ_1  >= -1 and θ_2 - θ_1 >= -1:\n",
    "            return np.array([θ_1, θ_2])\n",
    "    \n",
    "    \n",
    "# Evaluate prior distribtuion\n",
    "def evaluate_prior(Θ):\n",
    "    θ_1 = Θ[0]\n",
    "    θ_2 = Θ[1]\n",
    "    if abs(θ_1) <= 2 and abs(θ_2) <= 1 and θ_2 + θ_1 >= -1 and θ_2 - θ_1 >= -1:\n",
    "        return True\n",
    "    else:\n",
    "        return False\n",
    "\n",
    "\n",
    "# Generate data from the model\n",
    "def generate_data(Θ):\n",
    "    \n",
    "    N_data=100\n",
    "    θ_1 = Θ[0]\n",
    "    θ_2 = Θ[1]\n",
    "    y = np.zeros(N_data)\n",
    "\n",
    "    if evaluate_prior(Θ):\n",
    "        ϵ = np.random.normal(0,1,N_data)\n",
    "        y[0] = ϵ[0]\n",
    "        y[1] = ϵ[1] + θ_1*y[0]\n",
    "        for i in  range(2,N_data):\n",
    "            y[i] = ϵ[i] + θ_1*ϵ[i-1] + θ_2*ϵ[i-2]\n",
    "    else:\n",
    "        y[:] = np.nan\n",
    "    return y"
   ]
  },
  {
   "cell_type": "markdown",
   "metadata": {},
   "source": [
    "Set function to compute summary statistics using the DNN "
   ]
  },
  {
   "cell_type": "code",
   "execution_count": 42,
   "metadata": {},
   "outputs": [],
   "source": [
    "def calc_summary_DNN(y_sim): \n",
    "    return model(y_sim).detach().numpy()\n",
    "\n",
    "def calc_summary_summary_stats(y_sim): \n",
    "    return stats.acovf(y_sim)[0:2]\n"
   ]
  },
  {
   "cell_type": "code",
   "execution_count": 45,
   "metadata": {},
   "outputs": [
    {
     "data": {
      "text/plain": [
       "array([0.67112012, 0.26575854])"
      ]
     },
     "execution_count": 45,
     "metadata": {},
     "output_type": "execute_result"
    }
   ],
   "source": [
    "calc_summary_DNN(torch.from_numpy(y_obs))"
   ]
  },
  {
   "cell_type": "code",
   "execution_count": 46,
   "metadata": {},
   "outputs": [
    {
     "data": {
      "text/plain": [
       "array([1.4144527 , 0.67193769])"
      ]
     },
     "execution_count": 46,
     "metadata": {},
     "output_type": "execute_result"
    }
   ],
   "source": [
    "calc_summary_summary_stats(y_obs)"
   ]
  },
  {
   "cell_type": "code",
   "execution_count": null,
   "metadata": {},
   "outputs": [],
   "source": []
  },
  {
   "cell_type": "code",
   "execution_count": null,
   "metadata": {},
   "outputs": [],
   "source": []
  },
  {
   "cell_type": "markdown",
   "metadata": {},
   "source": [
    "Define ABC-RS algorithm "
   ]
  },
  {
   "cell_type": "code",
   "execution_count": null,
   "metadata": {},
   "outputs": [],
   "source": [
    "def abcrs(y_obs, proposalas, datasets, calc_summary, ρ)\n",
    "\n",
    "    cutoff_percentile = 0.1 \n",
    "    \n",
    "    @printf \"Starting abc-rs\\n\"\n",
    "\n",
    "    N = size(proposalas,1)\n",
    "    ρ_vector = zeros(N)\n",
    "    s = calc_summary(y_obs, y_obs)\n",
    "\n",
    "    #@showprogress for i = 1:N\n",
    "    for i = 1:N\n",
    "        print_progress(i,N)\n",
    "        s_star = calc_summary(datasets[i,:], y_obs)\n",
    "        ρ_vector[i] = ρ(s, s_star)\n",
    "    end\n",
    "\n",
    "    PyPlot.figure()\n",
    "    h = PyPlot.plt[:hist](ρ_vector,100)\n",
    "\n",
    "    ρ_val_cutoff = percentile(ρ_vector, cutoff_percentile)\n",
    "\n",
    "    idx_keep = find(x-> x <= ρ_val_cutoff, ρ_vector)\n",
    "\n",
    "    @printf \"Ending abc-rs\\n\"\n",
    "\n",
    "    return_data ? (return (proposalas[idx_keep,:], datasets[idx_keep,:])) : return proposalas[idx_keep,:]\n",
    "\n",
    "end\n"
   ]
  },
  {
   "cell_type": "markdown",
   "metadata": {},
   "source": [
    "Load parameter data paris "
   ]
  },
  {
   "cell_type": "code",
   "execution_count": null,
   "metadata": {},
   "outputs": [],
   "source": [
    "# load the parameter data pairs for the ABC-RS algorithm "
   ]
  },
  {
   "cell_type": "code",
   "execution_count": null,
   "metadata": {},
   "outputs": [],
   "source": [
    "# load data from file \n",
    "proposalas = np.genfromtxt(\"data/proposalas.csv\",delimiter=',')\n",
    "datasets = np.genfromtxt(\"data/datasets.csv\",delimiter=',')\n",
    "\n",
    "# remove empty row \n",
    "X_training = X_training[1:500000,:]\n",
    "X_val = X_val[1:100,:]\n",
    "\n",
    "# transpose input data \n",
    "X_training = np.transpose(X_training)\n",
    "X_val = np.transpose(X_val)\n",
    "X_test = np.transpose(X_test)\n",
    "\n",
    "# convert to torch\n",
    "X_training = torch.from_numpy(X_training)\n",
    "X_val = torch.from_numpy(X_val)\n",
    "X_test = torch.from_numpy(X_test)\n",
    "\n",
    "y_training = torch.from_numpy(y_training)\n",
    "y_val = torch.from_numpy(y_val)\n",
    "y_test = torch.from_numpy(y_test)"
   ]
  },
  {
   "cell_type": "code",
   "execution_count": null,
   "metadata": {},
   "outputs": [],
   "source": []
  },
  {
   "cell_type": "code",
   "execution_count": null,
   "metadata": {},
   "outputs": [],
   "source": []
  },
  {
   "cell_type": "code",
   "execution_count": null,
   "metadata": {},
   "outputs": [],
   "source": []
  },
  {
   "cell_type": "code",
   "execution_count": null,
   "metadata": {},
   "outputs": [],
   "source": []
  },
  {
   "cell_type": "code",
   "execution_count": null,
   "metadata": {},
   "outputs": [],
   "source": []
  },
  {
   "cell_type": "code",
   "execution_count": null,
   "metadata": {},
   "outputs": [],
   "source": []
  },
  {
   "cell_type": "markdown",
   "metadata": {},
   "source": [
    "Run ABC-RS "
   ]
  },
  {
   "cell_type": "markdown",
   "metadata": {},
   "source": [
    "Plot posterior inference "
   ]
  },
  {
   "cell_type": "code",
   "execution_count": null,
   "metadata": {},
   "outputs": [],
   "source": []
  }
 ],
 "metadata": {
  "kernelspec": {
   "display_name": "Python 3",
   "language": "python",
   "name": "python3"
  },
  "language_info": {
   "codemirror_mode": {
    "name": "ipython",
    "version": 3
   },
   "file_extension": ".py",
   "mimetype": "text/x-python",
   "name": "python",
   "nbconvert_exporter": "python",
   "pygments_lexer": "ipython3",
   "version": "3.6.5"
  }
 },
 "nbformat": 4,
 "nbformat_minor": 2
}
