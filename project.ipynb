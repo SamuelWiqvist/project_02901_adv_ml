{
 "cells": [
  {
   "cell_type": "markdown",
   "metadata": {},
   "source": [
    "# Project work for *02901 Advanced Topics in Machine Learning: Computational Tools for Machine Learning in Python*\n",
    "\n",
    "We will in this notebook present a reaanalyses of the MA2 process example in *Learning Summary Statistic for Approximate Bayesian Computation via Deep Neural Network* [link to paper](https://www.researchgate.net/publication/282691910_Learning_Summary_Statistic_for_Approximate_Bayesian_Computation_via_Deep_Neural_Network). \n",
    "\n",
    "For building and training the deep neural networks we use the PyTorch package. We also use Numpy and some functions from Statsmodels and math for the implementation of the ABC rejection sampling algorithm. Matplotlib is used for plotting."
   ]
  },
  {
   "cell_type": "markdown",
   "metadata": {},
   "source": [
    "### Setup"
   ]
  },
  {
   "cell_type": "markdown",
   "metadata": {},
   "source": [
    "Load packages "
   ]
  },
  {
   "cell_type": "code",
   "execution_count": 1,
   "metadata": {},
   "outputs": [],
   "source": [
    "%matplotlib inline\n",
    "\n",
    "import torch\n",
    "import numpy as np \n",
    "import matplotlib as mpl\n",
    "import matplotlib.pyplot as plt\n",
    "import statsmodels.tsa.stattools as stats\n",
    "import math\n"
   ]
  },
  {
   "cell_type": "markdown",
   "metadata": {},
   "source": [
    "Set ground-truth parameters and load data. "
   ]
  },
  {
   "cell_type": "code",
   "execution_count": 2,
   "metadata": {
    "scrolled": true
   },
   "outputs": [
    {
     "data": {
      "image/png": "[encoded data removed]",
      "text/plain": [
       "<Figure size 432x288 with 1 Axes>"
      ]
     },
     "metadata": {},
     "output_type": "display_data"
    }
   ],
   "source": [
    "θ_true = np.array([0.6, 0.2]) # ground-truth parameter values \n",
    "\n",
    "ma2_data = np.genfromtxt('data/ma2_data.csv', delimiter=',') # load data \n",
    "obs_nbrs = ma2_data[1:101,0]\n",
    "y_obs = ma2_data[1:101,1]\n",
    "\n",
    "# plot datbba \n",
    "plt.plot(y_obs); \n",
    "plt.xlabel(\"Time\");\n"
   ]
  },
  {
   "cell_type": "markdown",
   "metadata": {},
   "source": [
    "### Train Network "
   ]
  },
  {
   "cell_type": "markdown",
   "metadata": {},
   "source": [
    "Load training, validation and test data. "
   ]
  },
  {
   "cell_type": "code",
   "execution_count": 3,
   "metadata": {},
   "outputs": [],
   "source": [
    "# load data from file \n",
    "X_training = np.genfromtxt(\"data/X_training.csv\",delimiter=',')\n",
    "X_val = np.genfromtxt(\"data/X_val.csv\",delimiter=',')\n",
    "X_test = np.genfromtxt(\"data/X_test.csv\",delimiter=',')\n",
    "\n",
    "y_training = np.genfromtxt(\"data/y_training.csv\",delimiter=',')\n",
    "y_val = np.genfromtxt(\"data/y_val.csv\",delimiter=',')\n",
    "y_test = np.genfromtxt(\"data/y_test.csv\",delimiter=',')\n",
    "\n",
    "# remove empty row \n",
    "X_training = X_training[1:500000,:]\n",
    "X_val = X_val[1:100,:]\n",
    "X_test = X_test[1:len(X_training),:]\n",
    "\n",
    "y_training = y_training[1:500000,:]\n",
    "y_val = y_val[1:100,:]\n",
    "y_test = y_test[1:len(y_test),:]\n",
    "\n",
    "# transpose input data \n",
    "X_training = np.transpose(X_training)\n",
    "X_val = np.transpose(X_val)\n",
    "X_test = np.transpose(X_test)\n",
    "\n",
    "# convert to torch\n",
    "X_training = torch.from_numpy(X_training)\n",
    "X_val = torch.from_numpy(X_val)\n",
    "X_test = torch.from_numpy(X_test)\n",
    "\n",
    "y_training = torch.from_numpy(y_training)\n",
    "y_val = torch.from_numpy(y_val)\n",
    "y_test = torch.from_numpy(y_test)"
   ]
  },
  {
   "cell_type": "markdown",
   "metadata": {},
   "source": [
    "Set up network "
   ]
  },
  {
   "cell_type": "code",
   "execution_count": 4,
   "metadata": {},
   "outputs": [],
   "source": [
    "model = torch.nn.Sequential(torch.nn.Linear(100, 100), torch.nn.ReLU(), torch.nn.Linear(100, 100),torch.nn.ReLU(), torch.nn.Linear(100, 50), torch.nn.ReLU(), torch.nn.Linear(50, 2)).double() \n",
    "optimizer  =  torch.optim.Adam(model.parameters())\n",
    "loss_func = torch.nn.MSELoss()"
   ]
  },
  {
   "cell_type": "markdown",
   "metadata": {},
   "source": [
    "Train network "
   ]
  },
  {
   "cell_type": "code",
   "execution_count": 5,
   "metadata": {
    "scrolled": true
   },
   "outputs": [
    {
     "name": "stdout",
     "output_type": "stream",
     "text": [
      "Epoch: 1\n",
      "Training loss: tensor(0.4408)\n",
      "Eval. loss: tensor(0.5364)\n",
      "Epoch: 2\n",
      "Training loss: tensor(0.0223)\n",
      "Eval. loss: tensor(0.0279)\n",
      "Epoch: 3\n",
      "Training loss: tensor(0.0224)\n",
      "Eval. loss: tensor(0.0269)\n",
      "Epoch: 4\n",
      "Training loss: tensor(0.0186)\n",
      "Eval. loss: tensor(0.0186)\n",
      "Epoch: 5\n",
      "Training loss: tensor(0.0201)\n",
      "Eval. loss: tensor(0.0255)\n",
      "Epoch: 6\n",
      "Training loss: tensor(0.0195)\n",
      "Eval. loss: tensor(0.0227)\n",
      "Epoch: 7\n",
      "Training loss: tensor(0.0209)\n",
      "Eval. loss: tensor(0.0228)\n",
      "Epoch: 8\n",
      "Training loss: tensor(0.0208)\n",
      "Eval. loss: tensor(0.0248)\n",
      "Epoch: 9\n",
      "Training loss: tensor(0.0207)\n",
      "Eval. loss: tensor(0.0183)\n",
      "Epoch: 10\n",
      "Training loss: tensor(0.0204)\n",
      "Eval. loss: tensor(0.0213)\n",
      "Epoch: 11\n",
      "Training loss: tensor(0.0216)\n",
      "Eval. loss: tensor(0.0230)\n",
      "Epoch: 12\n",
      "Training loss: tensor(0.0191)\n",
      "Eval. loss: tensor(0.0235)\n",
      "Epoch: 13\n",
      "Training loss: tensor(0.0204)\n",
      "Eval. loss: tensor(0.0244)\n",
      "Epoch: 14\n",
      "Training loss: tensor(0.0211)\n",
      "Eval. loss: tensor(0.0200)\n",
      "Epoch: 15\n",
      "Training loss: tensor(0.0237)\n",
      "Eval. loss: tensor(0.0227)\n",
      "Epoch: 16\n",
      "Training loss: tensor(0.0201)\n",
      "Eval. loss: tensor(0.0236)\n",
      "Epoch: 17\n",
      "Training loss: tensor(0.0205)\n",
      "Eval. loss: tensor(0.0223)\n",
      "Epoch: 18\n",
      "Training loss: tensor(0.0224)\n",
      "Eval. loss: tensor(0.0181)\n",
      "Epoch: 19\n",
      "Training loss: tensor(0.0226)\n",
      "Eval. loss: tensor(0.0253)\n",
      "Epoch: 20\n",
      "Training loss: tensor(0.0211)\n",
      "Eval. loss: tensor(0.0215)\n"
     ]
    }
   ],
   "source": [
    "save_model = True # save trained model \n",
    "load_model = False # set to false to retrain the model \n",
    "\n",
    "if not load_model:\n",
    "    \n",
    "    nbr_obs = y_training.shape[0]\n",
    "    nbr_epoch = 20\n",
    "\n",
    "    idx = range(nbr_obs)\n",
    "    loss_eval_vec = torch.zeros(nbr_epoch)\n",
    "    loss_training_vec = torch.zeros(nbr_epoch)\n",
    "\n",
    "    for epoch in range(1,nbr_epoch+1): \n",
    "\n",
    "        print('Epoch:', epoch)\n",
    "        loss_training = 0\n",
    "        loss_eval = 0 \n",
    "\n",
    "        # calc loss at current epoch for evaluation data and part of training data     \n",
    "        for obs in range(0,y_val.shape[0]): \n",
    "\n",
    "            with torch.no_grad():\n",
    "                pred = model(X_val[:,obs])\n",
    "                loss_eval = loss_eval+loss_func(pred, y_val[obs,:]) \n",
    "                idx_training = np.random.choice(idx, 1)[0] # get one obs. from training data at random  \n",
    "                pred = model(X_training[:,idx_training])\n",
    "                loss_training = loss_training+loss_func(pred, y_training[idx_training,:])              \n",
    "\n",
    "        loss_eval_vec[epoch-1] = loss_eval/y_val.shape[0]\n",
    "        loss_training_vec[epoch-1] = loss_training/y_val.shape[0]\n",
    "\n",
    "        print('Training loss:', loss_eval_vec[epoch-1])\n",
    "        print('Eval. loss:', loss_training_vec[epoch-1])\n",
    "\n",
    "        # train on entier trainin data set     \n",
    "        for obs in range(0,y_training.shape[0]): \n",
    "\n",
    "            pred = model(X_training[:,obs])\n",
    "            loss = loss_func(pred, y_training[obs,:])  \n",
    "            optimizer.zero_grad()\n",
    "            loss.backward()    \n",
    "            optimizer.step()\n",
    "\n",
    "    if save_model: \n",
    "        torch.save(model, 'model.pt')\n",
    "else:\n",
    "    model = torch.load('model.pt')\n",
    "    "
   ]
  },
  {
   "cell_type": "markdown",
   "metadata": {},
   "source": [
    "Plot loss "
   ]
  },
  {
   "cell_type": "code",
   "execution_count": 6,
   "metadata": {},
   "outputs": [
    {
     "data": {
      "image/png": "[encoded data removed]",
      "text/plain": [
       "<Figure size 432x288 with 1 Axes>"
      ]
     },
     "metadata": {},
     "output_type": "display_data"
    }
   ],
   "source": [
    "plt.plot(loss_training_vec.numpy(), \"r\")\n",
    "plt.plot(loss_eval_vec.numpy(), \"b\")\n",
    "plt.xlabel(\"Epoch\")\n",
    "plt.ylabel(\"Avg. MSE\");"
   ]
  },
  {
   "cell_type": "markdown",
   "metadata": {},
   "source": [
    "Test network "
   ]
  },
  {
   "cell_type": "code",
   "execution_count": 7,
   "metadata": {
    "scrolled": true
   },
   "outputs": [
    {
     "name": "stdout",
     "output_type": "stream",
     "text": [
      "Avg. MSE\n",
      "0.5887854\n"
     ]
    }
   ],
   "source": [
    "nbr_obs = y_test.shape[0]\n",
    "loss_test = torch.zeros(nbr_obs)\n",
    "predictions = torch.zeros(nbr_obs,2)\n",
    "\n",
    "with torch.no_grad():\n",
    "    for i in range(0,nbr_obs):\n",
    "        predictions[i,:] = model(X_test[:,i])\n",
    "        loss_test[i] = loss_func(pred, y_test[i,:])\n",
    "        \n",
    "loss_test = loss_test.numpy()\n",
    "predictions = predictions.numpy()\n",
    "y_test = y_test.numpy()\n",
    "\n",
    "\n",
    "print(\"Avg. MSE\")\n",
    "print(np.mean(loss_test))"
   ]
  },
  {
   "cell_type": "code",
   "execution_count": 8,
   "metadata": {},
   "outputs": [
    {
     "data": {
      "image/png": "[encoded data removed]",
      "text/plain": [
       "<Figure size 432x288 with 1 Axes>"
      ]
     },
     "metadata": {},
     "output_type": "display_data"
    }
   ],
   "source": [
    "plt.hist(loss_test,200)\n",
    "plt.xlabel(\"MSE\");"
   ]
  },
  {
   "cell_type": "code",
   "execution_count": 9,
   "metadata": {},
   "outputs": [
    {
     "data": {
      "image/png": "[encoded data removed]",
      "text/plain": [
       "<Figure size 432x288 with 1 Axes>"
      ]
     },
     "metadata": {},
     "output_type": "display_data"
    }
   ],
   "source": [
    "plt.hist2d(y_test[:,0],predictions[:,0],100);\n",
    "plt.ylabel(\"$\\hat{θ_1}$\");\n",
    "plt.xlabel(\"$θ_1$\");"
   ]
  },
  {
   "cell_type": "code",
   "execution_count": 10,
   "metadata": {},
   "outputs": [
    {
     "data": {
      "image/png": "[encoded data removed]",
      "text/plain": [
       "<Figure size 432x288 with 1 Axes>"
      ]
     },
     "metadata": {},
     "output_type": "display_data"
    }
   ],
   "source": [
    "plt.hist2d(y_test[:,1],predictions[:,1],100);\n",
    "plt.ylabel(\"$\\hat{θ_2}$\");\n",
    "plt.xlabel(\"$θ_2$\");"
   ]
  },
  {
   "cell_type": "markdown",
   "metadata": {},
   "source": [
    "### Run ABC inference "
   ]
  },
  {
   "cell_type": "markdown",
   "metadata": {},
   "source": [
    "Functions defining the MA2 process. "
   ]
  },
  {
   "cell_type": "code",
   "execution_count": 11,
   "metadata": {},
   "outputs": [],
   "source": [
    "# Sample from the Uniform prior distribution\n",
    "def sample_from_prior():\n",
    "    while True:\n",
    "        θ_1 = np.random.uniform(-2, 2)\n",
    "        θ_2 = np.random.uniform(-1, 1) \n",
    "        if θ_2 + θ_1  >= -1 and θ_2 - θ_1 >= -1:\n",
    "            return np.array([θ_1, θ_2])\n",
    "    \n",
    "    \n",
    "# Evaluate prior distribtuion\n",
    "def evaluate_prior(Θ):\n",
    "    θ_1 = Θ[0]\n",
    "    θ_2 = Θ[1]\n",
    "    if abs(θ_1) <= 2 and abs(θ_2) <= 1 and θ_2 + θ_1 >= -1 and θ_2 - θ_1 >= -1:\n",
    "        return True\n",
    "    else:\n",
    "        return False\n",
    "\n",
    "\n",
    "# Generate data from the model\n",
    "def generate_data(Θ):\n",
    "    \n",
    "    N_data=100\n",
    "    θ_1 = Θ[0]\n",
    "    θ_2 = Θ[1]\n",
    "    y = np.zeros(N_data)\n",
    "\n",
    "    if evaluate_prior(Θ):\n",
    "        ϵ = np.random.normal(0,1,N_data)\n",
    "        y[0] = ϵ[0]\n",
    "        y[1] = ϵ[1] + θ_1*y[0]\n",
    "        for i in  range(2,N_data):\n",
    "            y[i] = ϵ[i] + θ_1*ϵ[i-1] + θ_2*ϵ[i-2]\n",
    "    else:\n",
    "        y[:] = np.nan\n",
    "    return y"
   ]
  },
  {
   "cell_type": "markdown",
   "metadata": {},
   "source": [
    "Set function to compute summary statistics"
   ]
  },
  {
   "cell_type": "code",
   "execution_count": 12,
   "metadata": {},
   "outputs": [],
   "source": [
    "def calc_summary_DNN(y_sim): \n",
    "    return model(torch.from_numpy(y_sim)).detach().numpy()\n",
    "\n",
    "def calc_summary_summary_stats(y_sim): \n",
    "    return stats.acovf(y_sim)[0:2]\n"
   ]
  },
  {
   "cell_type": "markdown",
   "metadata": {},
   "source": [
    "Define ABC-RS algorithm "
   ]
  },
  {
   "cell_type": "code",
   "execution_count": 13,
   "metadata": {},
   "outputs": [],
   "source": [
    "def abcrs(y_obs, proposalas, datasets, calc_summary):\n",
    "\n",
    "    cutoff_percentile = 0.1 \n",
    "    \n",
    "    print(\"Starting abc-rs\")\n",
    "\n",
    "    N = proposalas.shape[0]\n",
    "    dist_vector = np.zeros(N)\n",
    "    s = calc_summary(y_obs)\n",
    "\n",
    "    for i in range(0,N):\n",
    "        if i % 50000 == 0: \n",
    "            print('\"Percentage done:', round(i/N*100,2))\n",
    "        s_star = calc_summary(datasets[i,:])\n",
    "        dist_vector[i] = euclidean_dist(s, s_star)\n",
    "\n",
    "    dist_val_cutoff = np.percentile(dist_vector, cutoff_percentile)\n",
    "\n",
    "    idx_keep = dist_vector <= dist_val_cutoff\n",
    "    proposalas = proposalas[idx_keep,:]\n",
    "    \n",
    "    print(\"Ending abc-rs\")\n",
    "\n",
    "    return proposalas\n",
    "\n",
    "\n",
    "def euclidean_dist(s_star, s):\n",
    "    return math.sqrt(sum(np.power(s_star-s,2)))"
   ]
  },
  {
   "cell_type": "markdown",
   "metadata": {},
   "source": [
    "load the parameter data pairs for the ABC-RS algorithm "
   ]
  },
  {
   "cell_type": "code",
   "execution_count": 14,
   "metadata": {},
   "outputs": [],
   "source": [
    "# load data from file \n",
    "proposalas = np.genfromtxt(\"data/abc_data_parameters.csv\",delimiter=',')\n",
    "datasets = np.genfromtxt(\"data/abc_data_data.csv\",delimiter=',')\n",
    "\n",
    "# remove empty row \n",
    "proposalas = proposalas[1:len(proposalas),:]\n",
    "datasets = datasets[1:len(datasets),:]"
   ]
  },
  {
   "cell_type": "markdown",
   "metadata": {},
   "source": [
    "Run ABC-RS using summary statisitics "
   ]
  },
  {
   "cell_type": "code",
   "execution_count": 15,
   "metadata": {},
   "outputs": [
    {
     "name": "stdout",
     "output_type": "stream",
     "text": [
      "Starting abc-rs\n",
      "\"Percentage done: 0.0\n",
      "\"Percentage done: 10.0\n",
      "\"Percentage done: 20.0\n",
      "\"Percentage done: 30.0\n",
      "\"Percentage done: 40.0\n",
      "\"Percentage done: 50.0\n",
      "\"Percentage done: 60.0\n",
      "\"Percentage done: 70.0\n",
      "\"Percentage done: 80.0\n",
      "\"Percentage done: 90.0\n",
      "Ending abc-rs\n"
     ]
    }
   ],
   "source": [
    "approx_posterior_abc_summary_stats = abcrs(y_obs, proposalas, datasets, calc_summary_summary_stats)"
   ]
  },
  {
   "cell_type": "markdown",
   "metadata": {},
   "source": [
    "Run ABC-RS using DNN  "
   ]
  },
  {
   "cell_type": "code",
   "execution_count": 16,
   "metadata": {
    "scrolled": true
   },
   "outputs": [
    {
     "name": "stdout",
     "output_type": "stream",
     "text": [
      "Starting abc-rs\n",
      "\"Percentage done: 0.0\n",
      "\"Percentage done: 10.0\n",
      "\"Percentage done: 20.0\n",
      "\"Percentage done: 30.0\n",
      "\"Percentage done: 40.0\n",
      "\"Percentage done: 50.0\n",
      "\"Percentage done: 60.0\n",
      "\"Percentage done: 70.0\n",
      "\"Percentage done: 80.0\n",
      "\"Percentage done: 90.0\n",
      "Ending abc-rs\n"
     ]
    }
   ],
   "source": [
    "approx_posterior_abc_DNN = abcrs(y_obs, proposalas, datasets, calc_summary_DNN)"
   ]
  },
  {
   "cell_type": "markdown",
   "metadata": {},
   "source": [
    "Plot posterior inference "
   ]
  },
  {
   "cell_type": "code",
   "execution_count": 17,
   "metadata": {},
   "outputs": [
    {
     "data": {
      "image/png": "[encoded data removed]",
      "text/plain": [
       "<Figure size 432x288 with 1 Axes>"
      ]
     },
     "metadata": {},
     "output_type": "display_data"
    }
   ],
   "source": [
    "# plot posterior inference for ABC w. summary statistics\n",
    "plt.plot((0,-2),(-1,1), \"g\")\n",
    "plt.plot((-2,2),(1,1), \"g\")\n",
    "plt.plot((0,2),(-1,1), \"g\")\n",
    "plt.scatter(approx_posterior_abc_summary_stats[:,0],approx_posterior_abc_summary_stats[:,1])\n",
    "plt.plot(θ_true[0],θ_true[1], \"k*\")\n",
    "plt.ylabel(\"$θ_2$\")\n",
    "plt.xlabel(\"$θ_1$\");"
   ]
  },
  {
   "cell_type": "code",
   "execution_count": 18,
   "metadata": {},
   "outputs": [
    {
     "data": {
      "image/png": "[encoded data removed]",
      "text/plain": [
       "<Figure size 432x288 with 1 Axes>"
      ]
     },
     "metadata": {},
     "output_type": "display_data"
    }
   ],
   "source": [
    "# plot posterior inference for ABC w. DNN statistics \n",
    "plt.plot((0,-2),(-1,1), \"g\")\n",
    "plt.plot((-2,2),(1,1), \"g\")\n",
    "plt.plot((0,2),(-1,1), \"g\")\n",
    "plt.scatter(approx_posterior_abc_DNN[:,0],approx_posterior_abc_DNN[:,1])\n",
    "plt.plot(θ_true[0],θ_true[1], \"k*\")\n",
    "plt.ylabel(\"$θ_2$\")\n",
    "plt.xlabel(\"$θ_1$\");"
   ]
  }
 ],
 "metadata": {
  "kernelspec": {
   "display_name": "Python 3",
   "language": "python",
   "name": "python3"
  },
  "language_info": {
   "codemirror_mode": {
    "name": "ipython",
    "version": 3
   },
   "file_extension": ".py",
   "mimetype": "text/x-python",
   "name": "python",
   "nbconvert_exporter": "python",
   "pygments_lexer": "ipython3",
   "version": "3.6.5"
  }
 },
 "nbformat": 4,
 "nbformat_minor": 2
}
