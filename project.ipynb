{
 "cells": [
  {
   "cell_type": "markdown",
   "metadata": {},
   "source": [
    "# Project work for *02901 Advanced Topics in Machine Learning: Computational Tools for Machine Learning in Python*\n",
    "\n",
    "We will in this notebook present a reaanalyses of the MA2 process example in * Learning Summary Statistic for Approximate Bayesian Computation via Deep Neural Network* [link to paper](https://www.researchgate.net/publication/282691910_Learning_Summary_Statistic_for_Approximate_Bayesian_Computation_via_Deep_Neural_Network). \n",
    "\n",
    "For building and training the deep neural networks we use the PyTorch package. We also use Numpy for implementation of the ABC rejection sampling algorithm. Matplotlib is used for plotting."
   ]
  },
  {
   "cell_type": "markdown",
   "metadata": {},
   "source": [
    "### Setup"
   ]
  },
  {
   "cell_type": "markdown",
   "metadata": {},
   "source": [
    "Load packages "
   ]
  },
  {
   "cell_type": "code",
   "execution_count": 28,
   "metadata": {},
   "outputs": [],
   "source": [
    "%matplotlib inline\n",
    "\n",
    "import torch\n",
    "import numpy as np \n",
    "import matplotlib as mpl\n",
    "import matplotlib.pyplot as plt\n"
   ]
  },
  {
   "cell_type": "markdown",
   "metadata": {},
   "source": [
    "Set ground-truth parameters and load data. "
   ]
  },
  {
   "cell_type": "code",
   "execution_count": 75,
   "metadata": {
    "scrolled": true
   },
   "outputs": [
    {
     "data": {
      "text/plain": [
       "[<matplotlib.lines.Line2D at 0x7ff8a1e21fd0>]"
      ]
     },
     "execution_count": 75,
     "metadata": {},
     "output_type": "execute_result"
    },
    {
     "data": {
      "image/png": "[encoded data removed]",
      "text/plain": [
       "<Figure size 432x288 with 1 Axes>"
      ]
     },
     "metadata": {},
     "output_type": "display_data"
    }
   ],
   "source": [
    "θ_true = np.array([0.6, 0.2]) # ground-truth parameter values \n",
    "\n",
    "ma2_data = np.genfromtxt('data/ma2_data.csv', delimiter=',') # load data \n",
    "obs_nbrs = ma2_data[1:101,0]\n",
    "y_obs = ma2_data[1:101,1]\n",
    "\n",
    "# plot datbba \n",
    "plt.plot(y_obs) \n"
   ]
  },
  {
   "cell_type": "markdown",
   "metadata": {},
   "source": [
    "### Train Network "
   ]
  },
  {
   "cell_type": "markdown",
   "metadata": {},
   "source": [
    "Load training, validation and test data. "
   ]
  },
  {
   "cell_type": "code",
   "execution_count": 112,
   "metadata": {},
   "outputs": [],
   "source": [
    "# load data from file \n",
    "X_training = np.genfromtxt(\"data/X_training.csv\",delimiter=',')\n",
    "X_val = np.genfromtxt(\"data/X_val.csv\",delimiter=',')\n",
    "X_test = np.genfromtxt(\"data/X_test.csv\",delimiter=',')\n",
    "\n",
    "y_training = np.genfromtxt(\"data/y_training.csv\",delimiter=',')\n",
    "y_val = np.genfromtxt(\"data/y_val.csv\",delimiter=',')\n",
    "y_test = np.genfromtxt(\"data/y_test.csv\",delimiter=',')\n",
    "\n",
    "# remove empty row \n",
    "X_training = X_training[1:len(X_training),:]\n",
    "X_val = X_val[1:len(X_training),:]\n",
    "X_test = X_test[1:len(X_training),:]\n",
    "\n",
    "y_training = y_training[1:len(y_training),:]\n",
    "y_val = y_val[1:len(y_val),:]\n",
    "y_training = y_training[1:len(y_training),:]\n",
    "\n",
    "# transpose input data \n",
    "X_training = np.transpose(X_training)\n",
    "X_val = np.transpose(X_val)\n",
    "X_test = np.transpose(X_test)\n",
    "\n",
    "# convert to torch\n",
    "X_training = torch.from_numpy(X_training)\n",
    "X_val = torch.from_numpy(X_val)\n",
    "X_test = torch.from_numpy(X_test)\n",
    "\n",
    "y_training = torch.from_numpy(y_training)\n",
    "y_val = torch.from_numpy(y_val)\n",
    "y_test = torch.from_numpy(y_test)\n"
   ]
  },
  {
   "cell_type": "markdown",
   "metadata": {},
   "source": [
    "Set up network "
   ]
  },
  {
   "cell_type": "code",
   "execution_count": null,
   "metadata": {},
   "outputs": [],
   "source": []
  },
  {
   "cell_type": "code",
   "execution_count": null,
   "metadata": {},
   "outputs": [],
   "source": []
  },
  {
   "cell_type": "code",
   "execution_count": null,
   "metadata": {},
   "outputs": [],
   "source": []
  },
  {
   "cell_type": "code",
   "execution_count": null,
   "metadata": {},
   "outputs": [],
   "source": []
  },
  {
   "cell_type": "code",
   "execution_count": null,
   "metadata": {},
   "outputs": [],
   "source": []
  },
  {
   "cell_type": "code",
   "execution_count": null,
   "metadata": {},
   "outputs": [],
   "source": []
  },
  {
   "cell_type": "code",
   "execution_count": null,
   "metadata": {},
   "outputs": [],
   "source": []
  },
  {
   "cell_type": "code",
   "execution_count": null,
   "metadata": {},
   "outputs": [],
   "source": []
  },
  {
   "cell_type": "markdown",
   "metadata": {},
   "source": [
    "### Run ABC inference "
   ]
  },
  {
   "cell_type": "markdown",
   "metadata": {},
   "source": [
    "Functions defining the MA2 process. "
   ]
  },
  {
   "cell_type": "code",
   "execution_count": null,
   "metadata": {},
   "outputs": [],
   "source": [
    "# Sample from the Uniform prior distribution\n",
    "def sample_from_prior():\n",
    "    while True:\n",
    "        θ_1 = np.random.uniform(-2, 2)\n",
    "        θ_2 = np.random.uniform(-1, 1) \n",
    "        if θ_2 + θ_1  >= -1 and θ_2 - θ_1 >= -1:\n",
    "            return np.array([θ_1, θ_2])\n",
    "    \n",
    "    \n",
    "# Evaluate prior distribtuion\n",
    "def evaluate_prior(Θ):\n",
    "    θ_1 = Θ[0]\n",
    "    θ_2 = Θ[1]\n",
    "    if abs(θ_1) <= 2 and abs(θ_2) <= 1 and θ_2 + θ_1 >= -1 and θ_2 - θ_1 >= -1:\n",
    "        return True\n",
    "    else:\n",
    "        return False\n",
    "\n",
    "\n",
    "# Generate data from the model\n",
    "def generate_data(Θ):\n",
    "    \n",
    "    N_data=100\n",
    "    θ_1 = Θ[0]\n",
    "    θ_2 = Θ[1]\n",
    "    y = np.zeros(N_data)\n",
    "\n",
    "    if evaluate_prior(Θ):\n",
    "        ϵ = np.random.normal(0,1,N_data)\n",
    "        y[0] = ϵ[0]\n",
    "        y[1] = ϵ[1] + θ_1*y[0]\n",
    "        for i in  range(2,N_data):\n",
    "            y[i] = ϵ[i] + θ_1*ϵ[i-1] + θ_2*ϵ[i-2]\n",
    "    else:\n",
    "        y[:] = np.nan\n",
    "    return y"
   ]
  },
  {
   "cell_type": "code",
   "execution_count": null,
   "metadata": {},
   "outputs": [],
   "source": []
  },
  {
   "cell_type": "code",
   "execution_count": null,
   "metadata": {},
   "outputs": [],
   "source": []
  },
  {
   "cell_type": "code",
   "execution_count": null,
   "metadata": {},
   "outputs": [],
   "source": []
  },
  {
   "cell_type": "code",
   "execution_count": null,
   "metadata": {},
   "outputs": [],
   "source": []
  },
  {
   "cell_type": "code",
   "execution_count": null,
   "metadata": {},
   "outputs": [],
   "source": []
  },
  {
   "cell_type": "code",
   "execution_count": null,
   "metadata": {},
   "outputs": [],
   "source": []
  }
 ],
 "metadata": {
  "kernelspec": {
   "display_name": "Python 3",
   "language": "python",
   "name": "python3"
  },
  "language_info": {
   "codemirror_mode": {
    "name": "ipython",
    "version": 3
   },
   "file_extension": ".py",
   "mimetype": "text/x-python",
   "name": "python",
   "nbconvert_exporter": "python",
   "pygments_lexer": "ipython3",
   "version": "3.6.5"
  }
 },
 "nbformat": 4,
 "nbformat_minor": 2
}
